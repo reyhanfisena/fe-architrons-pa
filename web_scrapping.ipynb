{
  "nbformat": 4,
  "nbformat_minor": 0,
  "metadata": {
    "colab": {
      "provenance": [],
      "authorship_tag": "ABX9TyP6/RPB5rm/adY8ALgRrvoN",
      "include_colab_link": true
    },
    "kernelspec": {
      "name": "python3",
      "display_name": "Python 3"
    },
    "language_info": {
      "name": "python"
    }
  },
  "cells": [
    {
      "cell_type": "markdown",
      "metadata": {
        "id": "view-in-github",
        "colab_type": "text"
      },
      "source": [
        "<a href=\"https://colab.research.google.com/github/reyhanfisena/Architrons-Construction-predict/blob/main/web_scrapping.ipynb\" target=\"_parent\"><img src=\"https://colab.research.google.com/assets/colab-badge.svg\" alt=\"Open In Colab\"/></a>"
      ]
    },
    {
      "cell_type": "code",
      "execution_count": 2,
      "metadata": {
        "id": "kmbYqEkTQfOT"
      },
      "outputs": [],
      "source": [
        "import requests\n",
        "from bs4 import BeautifulSoup"
      ]
    },
    {
      "cell_type": "code",
      "source": [
        "result = requests.get(\"https://hellosehat.com/hidup-sehat/tips-pola-hidup-sehat/\")"
      ],
      "metadata": {
        "id": "ZYkTFSWURFno"
      },
      "execution_count": 3,
      "outputs": []
    },
    {
      "cell_type": "code",
      "source": [
        "result"
      ],
      "metadata": {
        "colab": {
          "base_uri": "https://localhost:8080/"
        },
        "id": "Dnj7guvMRMzq",
        "outputId": "9ba233c0-e7de-4416-c530-f0b59f288f2e"
      },
      "execution_count": 4,
      "outputs": [
        {
          "output_type": "execute_result",
          "data": {
            "text/plain": [
              "<Response [200]>"
            ]
          },
          "metadata": {},
          "execution_count": 4
        }
      ]
    },
    {
      "cell_type": "code",
      "source": [
        "result.encoding = result.apparent_encoding\n",
        "result.encoding"
      ],
      "metadata": {
        "colab": {
          "base_uri": "https://localhost:8080/",
          "height": 36
        },
        "id": "aXj0SKCnRQoZ",
        "outputId": "ae38721e-14ba-4dab-afc2-354f734bef3f"
      },
      "execution_count": 5,
      "outputs": [
        {
          "output_type": "execute_result",
          "data": {
            "text/plain": [
              "'Windows-1252'"
            ],
            "application/vnd.google.colaboratory.intrinsic+json": {
              "type": "string"
            }
          },
          "metadata": {},
          "execution_count": 5
        }
      ]
    },
    {
      "cell_type": "code",
      "source": [
        "wp = BeautifulSoup(result.text, \"html.parser\")"
      ],
      "metadata": {
        "id": "Av1jEHsTRb82"
      },
      "execution_count": 7,
      "outputs": []
    },
    {
      "cell_type": "code",
      "source": [
        "wp.find_all(\"p\")"
      ],
      "metadata": {
        "colab": {
          "base_uri": "https://localhost:8080/"
        },
        "id": "1QhcVOteRqo2",
        "outputId": "729b195a-0338-42f3-80d1-159fcf03871d"
      },
      "execution_count": 8,
      "outputs": [
        {
          "output_type": "execute_result",
          "data": {
            "text/plain": [
              "[<p class=\"mantine-Text-root mantine-Text-root mantine-1ctyjnz\" data-font-weight=\"semibold\" data-size=\"h6\">Kategori Kesehatan</p>,\n",
              " <p class=\"name\">Parenting</p>,\n",
              " <p class=\"name\">Kehamilan</p>,\n",
              " <p class=\"name\">Nutrisi</p>,\n",
              " <p class=\"name\">Kesehatan Kulit</p>,\n",
              " <p class=\"name\">Kesehatan Mental</p>,\n",
              " <p class=\"name\">Kesehatan Pernapasan</p>,\n",
              " <p class=\"mantine-Text-root mantine-Text-root mantine-1ctyjnz\" data-font-weight=\"semibold\" data-size=\"h6\">Galeri Fokus</p>,\n",
              " <p class=\"css-ku6jit\">Optimalkan Imunitas untuk Inteligensi Maksimal</p>,\n",
              " <p class=\"css-ku6jit\">Festival Soya 2024</p>,\n",
              " <p class=\"css-ku6jit\">Masako Rendah Garam</p>,\n",
              " <p class=\"css-ku6jit\">Cegah Anemia pada Anak</p>,\n",
              " <p class=\"mantine-Text-root mantine-Text-root mantine-1ctyjnz\" data-font-weight=\"semibold\" data-size=\"h6\">Cek Kondisi</p>,\n",
              " <p class=\"name\">Deteksi Dini Depresi Postpartum</p>,\n",
              " <p class=\"name\">Deteksi Dini Anemia Defisiensi Besi pada Anak</p>,\n",
              " <p class=\"name\">Deteksi Dini HPV</p>,\n",
              " <p class=\"name\">Kalkulator Kebutuhan Protein Anak</p>,\n",
              " <p class=\"name\">Vaksin Rotavirus</p>,\n",
              " <p class=\"name\">Tes Gangguan Kecemasan</p>,\n",
              " <p class=\"mantine-Text-root mantine-Text-root mantine-1ctyjnz\" data-font-weight=\"semibold\" data-size=\"h6\">Alat Kesehatan Favorit</p>,\n",
              " <p class=\"css-1rcg4h\">Kalkulator BMI</p>,\n",
              " <p class=\"css-o892f1\">Apakah berat badan Anda sudah ideal?</p>,\n",
              " <p class=\"css-1rcg4h\">Deteksi Dini Depresi</p>,\n",
              " <p class=\"css-o892f1\">Apakah Anda memiliki tingkat depresi yang tinggi saat ini?</p>,\n",
              " <p class=\"css-1rcg4h\">Kalkulator Kebutuhan Kalori</p>,\n",
              " <p class=\"css-o892f1\">Berapa jumlah kalori yang Anda butuhkan setiap hari?</p>,\n",
              " <p class=\"mantine-Text-root mantine-Text-root mantine-1ctyjnz\" data-font-weight=\"semibold\" data-size=\"h6\">Temukan komunitas Anda</p>,\n",
              " <p class=\"name\">Kehamilan</p>,\n",
              " <p class=\"name\">Parenting</p>,\n",
              " <p class=\"name\">Diabetes</p>,\n",
              " <p class=\"name\">Penyakit Infeksi</p>,\n",
              " <p class=\"name\">Kesehatan Wanita</p>,\n",
              " <p class=\"name\">Kesehatan Mental</p>,\n",
              " <p class=\"mantine-Text-root mantine-Text-root mantine-1ctyjnz\" data-font-weight=\"semibold\" data-size=\"h6\">Postingan Utama</p>,\n",
              " <p class=\"mantine-Text-root mantine-Text-root mantine-1ctyjnz\" data-font-weight=\"semibold\" data-size=\"h6\">Spesialisasi</p>,\n",
              " <p class=\"name\">Konseling Kesehatan Mental</p>,\n",
              " <p class=\"name\">Kebidanan dan Kandungan</p>,\n",
              " <p class=\"name\">Kesehatan anak</p>,\n",
              " <p class=\"name\">Penyakit Dalam / Internist</p>,\n",
              " <p class=\"name\">Dokter Gigi</p>,\n",
              " <p class=\"name\">Dermatologi</p>,\n",
              " <p class=\"mantine-Text-root mantine-Text-root mantine-1ctyjnz\" data-font-weight=\"semibold\" data-size=\"h6\">Rumah Sakit Terpopuler</p>,\n",
              " <p class=\"mantine-Text-root mantine-Text-root mantine-1mkgz0t\" data-size=\"p4\" data-type=\"regular\" style=\"display:inline-block\">Konten Disponsori oleh</p>,\n",
              " <p class=\"mantine-Text-root mantine-Text-root mantine-odhhri\" data-size=\"s4\" data-type=\"semiBold\">Panduan</p>,\n",
              " <p>Banyak orang yang tidak begitu paham bagaimana caranya menerapkan pola hidup sehat, baik secara fisik dan mental. Padahal, kebiasaan hidup sehat dan bahagia adalah kunci panjang umur.</p>,\n",
              " <p>Artinya, semakin bahagia seseorang, maka besar pula kemungkinannya orang tersebut hidup lebih lama. Jadi, yuk mulai terapkan pola hidup sehat dengan berbagai cara atau tips di bawah ini.</p>,\n",
              " <p>Berikut beberapa kiat sederhana yang bisa Anda lakukan untuk memulai pola hidup sehat.</p>,\n",
              " <p>Macet di jalan,Â <em>deadlineÂ </em>tugas atau kerjaan yang mencekik, keuangan yang tersendat, hubungan asmara yang sedang renggang, dan berbagai prahara hidup lainnya tentu akan membuat Anda <a data-event-action=\"click\" data-event-category=\"Internal Link Click on Article\" data-event-label=\"https://hellosehat.com/mental/stres/pengertian-stress/\" href=\"https://hellosehat.com/mental/stres/pengertian-stress/\">stres</a>.</p>,\n",
              " <p>Saat Anda stres, semua sistem dalam tubuh Anda akan meresponsnya dengan cara yang berbeda-beda. Stres yang bersifat kronis dapat berdampak pada kesehatan Anda secara keseluruhan.</p>,\n",
              " <p>Jika Anda stres, cobalah untuk tenangkan diri sambil mengambil napas dalam-dalam dan embuskan secara perlahan. Lakukan hal tersebut berulang kali sampai merasa lebih rileks.</p>,\n",
              " <p>Anda juga bisa melakukan berbagai aktivitas lainnya yang Anda senangi, seperti membaca buku, menonton film, atau lainnya. Intinya, buatlah diri Anda merasa nyaman dengan cara yang Anda senangi.</p>,\n",
              " <p><img alt=\"makanan sehat untuk orang sibuk\" class=\"aligncenter wp-image-142307 size-single-featured-image\" height=\"427\" loading=\"lazy\" sizes=\"(max-width: 640px) 100vw, 640px\" src=\"https://cdn.hellosehat.com/wp-content/uploads/2017/02/makanan-sehat-orang-sibuk-700x467.jpg\" srcset=\"https://cdn.hellosehat.com/wp-content/uploads/2017/02/makanan-sehat-orang-sibuk-700x467.jpg 700w, https://cdn.hellosehat.com/wp-content/uploads/2017/02/makanan-sehat-orang-sibuk-400x267.jpg 400w, https://cdn.hellosehat.com/wp-content/uploads/2017/02/makanan-sehat-orang-sibuk-90x60.jpg 90w, https://cdn.hellosehat.com/wp-content/uploads/2017/02/makanan-sehat-orang-sibuk-45x30.jpg 45w, https://cdn.hellosehat.com/wp-content/uploads/2017/02/makanan-sehat-orang-sibuk-300x200.jpg 300w\" width=\"640\"/></p>,\n",
              " <p>Apa yang Anda makan tentu akan memengaruhi bagaimana tubuh Anda bekerja. Oleh sebab itu, penting bagi Anda untuk memperhatikan setiap makanan yang Anda konsumsi setiap hari demi mewujudkan pola hidup sehat.</p>,\n",
              " <p>Pastikan kalau makanan dalam piring Anda memenuhi <a data-event-action=\"click\" data-event-category=\"Internal Link Click on Article\" data-event-label=\"https://hellosehat.com/nutrisi/gizi-seimbang/\" href=\"https://hellosehat.com/nutrisi/gizi-seimbang/\">prinsip gizi seimbang</a> yang mencakup karbohidrat, serat, protein, dan lemak baik.</p>,\n",
              " <p>Perhatikan pula <a data-event-action=\"click\" data-event-category=\"Internal Link Click on Article\" data-event-label=\"https://hellosehat.com/nutrisi/berat-badan-turun/diet-berhasil-porsi-piring-makan/\" href=\"https://hellosehat.com/nutrisi/berat-badan-turun/diet-berhasil-porsi-piring-makan/\">porsi makan</a> Anda. Memperhatikan porsi makan sangatlah penting untuk mencegah Anda mengalami kegemukan dan terserang berbagai penyakit kronis. Ingat, apa pun yang berlebihan tentu tidak baik untuk tubuh.</p>,\n",
              " <p>Selain memilah makanan yang akan dikonsumsi, Anda juga harus bijak dalam mengolahnya. Hindari mengolah makanan dengan cara digoreng. Anda bisa mengolah makanan dengan cara yang lebih sehat, seperti direbus, dikukus, atau ditumis.</p>,\n",
              " <p><a data-event-action=\"click\" data-event-category=\"Internal Link Click on Article\" data-event-label=\"https://hellosehat.com/kebugaran/tips-olahraga/cara-untuk-memulai-olahraga/\" href=\"https://hellosehat.com/kebugaran/tips-olahraga/cara-untuk-memulai-olahraga/\">Olahraga</a> tak melulu harusÂ <em>joggingÂ </em>atau pergi ke gym. Anda bebas melakukan berbagai jenis olahraga yang memang Anda sukai demi menerapkan kebiasaan pola hidup sehat.</p>,\n",
              " <p>Jika Anda suka bersepeda atau berenang, maka jangan ragu untuk melakukannya. Begitu pula jika hanya menyukai jalan santai. Kuncinya satu, buatlah tubuh Anda aktif bergerak setiap hari.</p>,\n",
              " <p>Dengan aktif bergerak, tubuh Anda akan berusaha untuk membakar kalori yang mengendap di tubuh. Selain itu,Â  hal ini juga dapat membantu mengalirkan lebih banyak oksigen ke dalam sel-sel tubuh dan menjaganya tetap sehat.</p>,\n",
              " <p>Tak heran jika setelah olahraga atau <a data-event-action=\"click\" data-event-category=\"Internal Link Click on Article\" data-event-label=\"https://hellosehat.com/kebugaran/minimal-aktivitas-fisik-bagi-orang-dewasa/\" href=\"https://hellosehat.com/kebugaran/minimal-aktivitas-fisik-bagi-orang-dewasa/\">melakukan aktivitas fisik</a> Anda jadi merasa lebih bugar.</p>,\n",
              " <p>Nah, bagi Anda pekerja kantoran yang mungkin tidak memiliki banyak waktu untuk berolahraga, Anda bisa melakukan berbagai aktivitas fisik sederhana guna memastikan tubuh Anda tetap bergerak.</p>,\n",
              " <p>Saat menuju ruangan kantor, cobalah untuk memilih <a data-event-action=\"click\" data-event-category=\"Internal Link Click on Article\" data-event-label=\"https://hellosehat.com/kebugaran/olahraga-lainnya/manfaat-naik-tangga-untuk-kesehatan/\" href=\"https://hellosehat.com/kebugaran/olahraga-lainnya/manfaat-naik-tangga-untuk-kesehatan/\">naik tangga</a> ketimbang lift atau eskalator. Anda juga bisa meluangkan waktu untuk berjalan-jalan atau sekadar naik turun tangga sebelum dan sesudah makan siang.</p>,\n",
              " <p>Terkadang, dengan perubahan kecil dalam rutinitas sehari-hari bisa membantu Anda menjadi lebih aktif berolahraga.</p>,\n",
              " <p><img alt=\"gula darah naik\" class=\"aligncenter wp-image-128611 size-single-featured-image\" height=\"427\" loading=\"lazy\" sizes=\"(max-width: 640px) 100vw, 640px\" src=\"https://cdn.hellosehat.com/wp-content/uploads/2018/03/gula-darah-naik-700x467.jpg\" srcset=\"https://cdn.hellosehat.com/wp-content/uploads/2018/03/gula-darah-naik-700x467.jpg 700w, https://cdn.hellosehat.com/wp-content/uploads/2018/03/gula-darah-naik-400x267.jpg 400w, https://cdn.hellosehat.com/wp-content/uploads/2018/03/gula-darah-naik-90x60.jpg 90w, https://cdn.hellosehat.com/wp-content/uploads/2018/03/gula-darah-naik-45x30.jpg 45w, https://cdn.hellosehat.com/wp-content/uploads/2018/03/gula-darah-naik-300x200.jpg 300w\" width=\"640\"/></p>,\n",
              " <p>Anda penyuka <em>dessert</em> alias makanan manis? Jika ya, cobalah untuk mengurangi atau bahkan menghindari berbagai makanan tersebut demi menjaga pola hidup sehat.</p>,\n",
              " <p>Pasalnya, <a data-event-action=\"click\" data-event-category=\"Internal Link Click on Article\" data-event-label=\"https://hellosehat.com/nutrisi/fakta-gizi/asupan-gula-per-hari/\" href=\"https://hellosehat.com/nutrisi/fakta-gizi/asupan-gula-per-hari/\">asupan gula</a> yang terlalu banyak dapat memicu <a data-event-action=\"click\" data-event-category=\"Internal Link Click on Article\" data-event-label=\"https://hellosehat.com/diabetes/diabetes-melitus/\" href=\"https://hellosehat.com/diabetes/diabetes-melitus/\">penyakit diabetes</a>. Nah, jika sudah terkena diabetes, Anda akan lebih rentan terkena berbagai penyakit kronis pada kemudian hari.</p>,\n",
              " <p>Mulailah kurangi gula secara perlahan. Jika biasanya Anda minum kopi dengan dua sendok gula, kini cobalah hanya satu sendok. Setelah terbiasa, Anda bisa menghilangkan asupan gula sama sekali dalam cangkir kopi yang Anda minum.</p>,\n",
              " <p>Sekitar 60% dari komposisi tubuh Anda adalah air. Setiap hari, cairan dalam tubuh akan terus berkurang lewat keringat, urine, dan bahkan setiap kali Anda bernapas.</p>,\n",
              " <p>Inilah mengapa penting untuk memastikan bahwa kebutuhan cairan Anda terpenuhi setiap hari supaya mencegah <a data-event-action=\"click\" data-event-category=\"Internal Link Click on Article\" data-event-label=\"https://hellosehat.com/sehat/gejala-umum/dehidrasi/\" href=\"https://hellosehat.com/sehat/gejala-umum/dehidrasi/\">dehidrasi</a>. Bawalah botol minum sendiri ke mana pun Anda pergi.</p>,\n",
              " <p>Masukkan botol tersebut ke dalam tas, sehingga Anda tidak akan lupa membawanya ke mana-mana. Selain itu, sediakan juga <a data-event-action=\"click\" data-event-category=\"Internal Link Click on Article\" data-event-label=\"https://hellosehat.com/nutrisi/fakta-gizi/manfaat-minum-air-putih/\" href=\"https://hellosehat.com/nutrisi/fakta-gizi/manfaat-minum-air-putih/\">air putih</a> di meja kerja atau kamar tidur.</p>,\n",
              " <p><span>Jika tidak ada, Anda bisa membeli air mineral yang ada di supermarket terdekat. Pastikan memilih air mineral yang mengandung sejumlah mineral, seperti kalium, natrium, magnesium, dan kalsium yang dibutuhkan oleh tubuh.Â </span></p>,\n",
              " <p><span>Dengan harga yang terjangkau, air mineral 100% murni dari pegunungan tanpa tambahan apapun. </span></p>,\n",
              " <p><span>Pastikan juga air mineral tersebut berasal dari sumber yang terlindungi, sehingga bebas dari cemaran dan pastinya aman untuk dikonsumsi.</span></p>,\n",
              " <p><span>Selain itu, rasanya yang dingin alami walau tidak didinginkan, sehingga cocok sebagai pelepas dahaga sekaligus memenuhi asupan cairan Anda setiap hari.</span></p>,\n",
              " <p class=\"end-of-article\"><img alt=\"penataan kamar\" class=\"size-single-featured-image wp-image-132714 aligncenter\" height=\"427\" loading=\"lazy\" sizes=\"(max-width: 640px) 100vw, 640px\" src=\"https://cdn.hellosehat.com/wp-content/uploads/2018/04/Jangan-Anggap-Remeh-Penataan-Kamar-Bisa-Mengganggu-Kenyamanan-Tidur-Lho-700x467.jpg\" srcset=\"https://cdn.hellosehat.com/wp-content/uploads/2018/04/Jangan-Anggap-Remeh-Penataan-Kamar-Bisa-Mengganggu-Kenyamanan-Tidur-Lho-700x467.jpg 700w, https://cdn.hellosehat.com/wp-content/uploads/2018/04/Jangan-Anggap-Remeh-Penataan-Kamar-Bisa-Mengganggu-Kenyamanan-Tidur-Lho-400x267.jpg 400w, https://cdn.hellosehat.com/wp-content/uploads/2018/04/Jangan-Anggap-Remeh-Penataan-Kamar-Bisa-Mengganggu-Kenyamanan-Tidur-Lho-90x60.jpg 90w, https://cdn.hellosehat.com/wp-content/uploads/2018/04/Jangan-Anggap-Remeh-Penataan-Kamar-Bisa-Mengganggu-Kenyamanan-Tidur-Lho-45x30.jpg 45w, https://cdn.hellosehat.com/wp-content/uploads/2018/04/Jangan-Anggap-Remeh-Penataan-Kamar-Bisa-Mengganggu-Kenyamanan-Tidur-Lho-300x200.jpg 300w\" width=\"640\"/></p>,\n",
              " <p class=\"end-of-article\">Rajin olahraga dan makan makanan yang bernutrisi tinggi akan berakhir sia-sia kalau Anda sendiri <a data-event-action=\"click\" data-event-category=\"Internal Link Click on Article\" data-event-label=\"https://hellosehat.com/pola-tidur/tips-tidur/mengatasi-kurang-tidur/\" href=\"https://hellosehat.com/pola-tidur/tips-tidur/mengatasi-kurang-tidur/\">kurang tidur</a>.</p>,\n",
              " <p class=\"end-of-article\">Menurut Cheri Mah, pakar masalah gangguan tidur di Stanford University dan University of California, tidur adalah kebutuhan paling mendasar untuk menuju pola hidup sehat.</p>,\n",
              " <p class=\"end-of-article\">Tidur menjadi sebuah fondasi di mana pikiran dan tubuh yang sehat terbentuk. Jika kebiasaan hidup sehat ini goyah, tentunya akan berdampak pada kesehatan Anda.</p>,\n",
              " <p class=\"end-of-article\">Menurut National Sleep Foundation, durasi tidur yang ideal bagi orang dewasa sekitar 7 â€“ 9 jam per malam. Jadi, pastikan kalau setiap malam Anda tidur setidaknya 7 â€“ 9 jam, ya!</p>,\n",
              " <p>Tak hanya gula, Anda juga harus perlahan-lahan mengurangi <a data-event-action=\"click\" data-event-category=\"Internal Link Click on Article\" data-event-label=\"https://hellosehat.com/hidup-sehat/berhenti-merokok/kandungan-dan-bahaya-rokok-kretek/\" href=\"https://hellosehat.com/hidup-sehat/berhenti-merokok/kandungan-dan-bahaya-rokok-kretek/\">kebiasaan merokok</a> dan minum alkohol.</p>,\n",
              " <p>Merokok tembakau menyebabkan penyakit tidak menular, seperti penyakit paru-paru, penyakit jantung, dan stroke. Tembakau membunuh tidak hanya perokok langsung, tetapi juga nonperokok melalui paparan tangan kedua.</p>,\n",
              " <p>Mengutip <a data-event-action=\"WHO\" data-event-category=\"Internal Link Click on Article\" data-event-label=\"https://www.who.int/philippines/news/feature-stories/detail/20-health-tips-for-2020\" href=\"https://www.who.int/philippines/news/feature-stories/detail/20-health-tips-for-2020\" rel=\"nofollow noopener\" target=\"_blank\">WHO</a>, saat ini ada sekitar 15,9 juta orang dewasa yang merokok tembakau, tetapi tujuh dari sepuluh perokok tertarik atau berencana untuk berhenti.</p>,\n",
              " <p>Jadi, jika saat ini Anda seorang perokok, belum terlambat untuk <a data-event-action=\"click\" data-event-category=\"Internal Link Click on Article\" data-event-label=\"https://hellosehat.com/hidup-sehat/berhenti-merokok/cara-berhenti-merokok/\" href=\"https://hellosehat.com/hidup-sehat/berhenti-merokok/cara-berhenti-merokok/\">berhenti merokok</a>. Setelah Anda melakukannya, Anda akan merasakan manfaat kesehatan secara langsung dan jangka panjang.</p>,\n",
              " <p>Jika Anda bukan perokok, itu bagus! Jangan mulai merokok dan perjuangkan hak Anda untuk <a data-event-action=\"click\" data-event-category=\"Internal Link Click on Article\" data-event-label=\"https://hellosehat.com/hidup-sehat/berhenti-merokok/cara-menghindari-asap-rokok/\" href=\"https://hellosehat.com/hidup-sehat/berhenti-merokok/cara-menghindari-asap-rokok/\">menghirup udara bebas asap rokok</a>.</p>,\n",
              " <p>Selain itu, jauhi minuman beralkohol. Mengonsumsi alkohol dapat menyebabkan masalah kesehatan, seperti gangguan mental dan perilaku, termasuk ketergantungan alkohol.</p>,\n",
              " <p><img alt=\"cara menjaga kebersihan rumah, rumah bersih awal dari pola hidup sehat\" class=\"aligncenter wp-image-468196\" height=\"427\" loading=\"lazy\" sizes=\"(max-width: 640px) 100vw, 640px\" src=\"https://cdn.hellosehat.com/wp-content/uploads/2019/09/44600497-cara-menjaga-kebersihan-rumah-400x267.jpg\" srcset=\"https://cdn.hellosehat.com/wp-content/uploads/2019/09/44600497-cara-menjaga-kebersihan-rumah-400x267.jpg 400w, https://cdn.hellosehat.com/wp-content/uploads/2019/09/44600497-cara-menjaga-kebersihan-rumah-650x434.jpg 650w, https://cdn.hellosehat.com/wp-content/uploads/2019/09/44600497-cara-menjaga-kebersihan-rumah-90x60.jpg 90w\" width=\"640\"/></p>,\n",
              " <p><a data-event-action=\"click\" data-event-category=\"Internal Link Click on Article\" data-event-label=\"https://hellosehat.com/hidup-sehat/kebersihan-diri/membersihkan-rumah-sehat/\" href=\"https://hellosehat.com/hidup-sehat/kebersihan-diri/membersihkan-rumah-sehat/\">Menjaga kebersihan rumah</a> dan lingkungan menjadi salah satu komponen yang penting untuk menjalani kebiasaan hidup sehat.</p>,\n",
              " <p><a data-event-action=\"click\" data-event-category=\"Internal Link Click on Article\" data-event-label=\"https://hellosehat.com/hidup-sehat/kebersihan-diri/kebiasaan-menjaga-kebersihan-rumah/\" href=\"https://hellosehat.com/hidup-sehat/kebersihan-diri/kebiasaan-menjaga-kebersihan-rumah/\">Rumah yang bersih</a> merupakan cerminan gaya hidup seseorang. Pastikan di setiap ruangan dan lingkungan sekitar rumah bersih karena kuman cepat berkembang biak di lingkungan yang kotor.</p>,\n",
              " <p>Usahakan ruangan terkena cahaya matahari dan memiliki ventilasi yang memadai. Selain itu, penting untuk menjaga kelembaban ruangan serta sirkulasi udara.</p>,\n",
              " <p>Pemeriksaan kesehatan secara rutin dapat membantu menemukan masalah kesehatan sedini mungkin.</p>,\n",
              " <p>Dokter mungkin dapat membantu menemukan dan mendiagnosis masalah kesehatan lebih awal, sehingga peluang Anda untuk perawatan dan penyembuhan lebih baik.</p>,\n",
              " <p>Kunjungi fasilitas kesehatan terdekat, seperti rumah sakit atau <a data-event-action=\"click\" data-event-category=\"Internal Link Click on Article\" data-event-label=\"https://hellosehat.com/care/rumah-sakit/parahita-diagnostic-center-2094/\" href=\"https://hellosehat.com/care/rumah-sakit/parahita-diagnostic-center-2094/\">laboratorium klinik</a>, untuk mendapatkan pemeriksaan dan pengobatan yang tepat.</p>,\n",
              " <p>Bila Anda memiliki kondisi medis tertentu, penting juga untuk mengetahui langkah-langkah <a data-event-action=\"click\" data-event-category=\"Internal Link Click on Article\" data-event-label=\"https://hellosehat.com/hidup-sehat/pertolongan-pertama/pertolongan-pertama-dasar/\" href=\"https://hellosehat.com/hidup-sehat/pertolongan-pertama/pertolongan-pertama-dasar/\">pertolongan pertama dasar</a> dari penyakit yang Anda derita</p>,\n",
              " <p>Menjaga kebersihan tangan sangat penting untuk semua orang. Tangan yang bersih dapat mencegah penyebaran penyakit menular.</p>,\n",
              " <p><a data-event-action=\"click\" data-event-category=\"Internal Link Click on Article\" data-event-label=\"https://hellosehat.com/hidup-sehat/kebersihan-diri/cara-mencuci-tangan-yang-benar/\" href=\"https://hellosehat.com/hidup-sehat/kebersihan-diri/cara-mencuci-tangan-yang-benar/\">Cara mencuci tangan yang benar</a>, yakni harus menggunakan sabun dan air mengalir, terlebih ketika melihat tangan Anda kotor.</p>,\n",
              " <p>Selain itu, Anda bisa menggosok tangan menggunakan produk berbasis alkohol, seperti <a data-event-action=\"click\" data-event-category=\"Internal Link Click on Article\" data-event-label=\"https://hellosehat.com/hidup-sehat/kebersihan-diri/risiko-bahaya-hand-sanitizer/\" href=\"https://hellosehat.com/hidup-sehat/kebersihan-diri/risiko-bahaya-hand-sanitizer/\">handsanitizer</a>.</p>,\n",
              " <p>[embed-health-tool-bmi]</p>,\n",
              " <p class=\"mantine-Text-root mantine-Text-root mantine-5gs9gy\" data-size=\"s2\" data-type=\"semiBold\">Catatan</p>,\n",
              " <p class=\"mantine-Text-root mantine-Text-root mantine-14vvo1w\" data-size=\"p1\" data-type=\"regular\">Hello Sehat tidak menyediakan saran medis, diagnosis, atau perawatan.  Selalu konsultasikan dengan ahli kesehatan profesional untuk mendapatkan jawaban dan penanganan masalah kesehatan Anda.</p>,\n",
              " <p class=\"mantine-Text-root mantine-Text-root mantine-7btryg\"><img alt=\"\" loading=\"lazy\" src=\"https://hhg-common.hellosehat.com/common/source-opened.svg\" style=\"vertical-align:bottom;margin-right:8px\"/>Sumber</p>,\n",
              " <p><span style=\"font-weight: 400;\">7 Ways to Jumpstart Healthy Change in Your Life â€“ </span></p>,\n",
              " <p><span style=\"font-weight: 400;\">https://www.health.harvard.edu/healthbeat/7-ways-to-jumpstart-healthy-change-in-your-life</span><span style=\"font-weight: 400;\"> diakses pada 29 Januari 2019</span></p>,\n",
              " <p><em>20 health tips for 2020</em>. (2019, December 31). WHO | World Health Organization. Retrieved 12 July 2022, from https://www.who.int/philippines/news/feature-stories/detail/20-health-tips-for-2020</p>,\n",
              " <p><em>Healthy habits and lifestyle tips</em>. (n.d.). Pediatric hospital in Virginia | Childrenâ€™s Hospital of Richmond at VCU | Childrenâ€™s Hospital of Richmond at VCU. Retrieved 12 July 2022, from https://www.chrichmond.org/services/weight-management-and-healthy-lifestyles-center/tips-to-develop-healthy-lifestyles</p>,\n",
              " <p><em>Live well</em>. (2018, April 26). nhs.uk. Retrieved 12 July 2022, from https://www.nhs.uk/live-well/</p>,\n",
              " <p><em>10 healthy lifestyle tips for adults</em>. (n.d.). Retrieved 12 July 2022, from https://www.eufic.org/en/healthy-living/article/10-healthy-lifestyle-tips-for-adults</p>,\n",
              " <p class=\"mantine-Text-root mantine-Text-root mantine-7btryg\"><img alt=\"\" loading=\"lazy\" src=\"https://hhg-common.hellosehat.com/common/source-opened.svg\" style=\"vertical-align:bottom;margin-right:8px\"/>Riwayat Pengerjaan</p>,\n",
              " <p class=\"mantine-Text-root mantine-Text-root mantine-125mp3z\" data-size=\"s4\" data-type=\"semiBold\">Versi Terbaru</p>,\n",
              " <p class=\"mantine-Text-root mantine-Text-root mantine-125mp3z\" data-size=\"s4\" data-type=\"semiBold\">30/10/2023</p>,\n",
              " <p class=\"mantine-Text-root mantine-Text-root mantine-fuc26\" data-size=\"p3\" data-type=\"regular\">Ditulis oleh <span class=\"mantine-Text-root mantine-Text-root mantine-1o7ctwr\" data-size=\"p3\" data-type=\"regular\">Adhenda Madarina</span></p>,\n",
              " <p class=\"mantine-Text-root mantine-Text-root mantine-fuc26\" data-size=\"p3\" data-type=\"regular\"><span class=\"mantine-Text-root mantine-Text-root mantine-gp65cs\" data-size=\"p3\" data-type=\"regular\">Ditinjau secara medis oleh</span> <span class=\"mantine-Text-root mantine-Text-root mantine-1o7ctwr\" data-size=\"p3\" data-type=\"regular\">dr. Carla Pramudita Susanto</span></p>,\n",
              " <p class=\"mantine-Text-root mantine-Text-root mantine-fuc26\" data-size=\"p3\" data-type=\"regular\">Diperbarui oleh: <span class=\"mantine-Text-root mantine-Text-root mantine-1o7ctwr\" data-size=\"p3\" data-type=\"regular\">Kenny Mangkona</span></p>,\n",
              " <p class=\"mantine-Text-root mantine-Text-root mantine-1ekwt9l\" data-size=\"md\" data-type=\"bold\" style=\"text-transform:uppercase;font-size:18px\">Artikel Terkait</p>,\n",
              " <p class=\"mantine-Text-root mantine-Text-root mantine-y1tv6f\">Ditinjau secara medis oleh</p>,\n",
              " <p class=\"mantine-Text-root mantine-Text-root mantine-f3tqxe\">dr. Carla Pramudita Susanto</p>,\n",
              " <p class=\"mantine-Text-root mantine-Text-root mantine-y1tv6f\">General Practitioner Â· Klinik Laboratorium Pramita</p>,\n",
              " <p class=\"mantine-Text-root mantine-Text-root author mantine-y1tv6f\" style=\"text-align:left\"><span class=\"mantine-Text-root mantine-Text-root mantine-i8b3ow\">Ditulis oleh <a data-event-action=\"Adhenda Madarina\" data-event-category=\"Author Name\" data-event-label=\"https://hellosehat.com/author/adhenda-madarina\" href=\"/author/adhenda-madarina\"><span class=\"mantine-Text-root mantine-Text-root mantine-glx3fp\">Adhenda Madarina</span></a> <!-- -->Â·<!-- --> </span>Tanggal diperbarui 30/10/2023</p>,\n",
              " <p class=\"mantine-Text-root mantine-Text-root mantine-5gs9gy\" data-size=\"s2\" data-type=\"semiBold\">Apakah artikel ini membantu?</p>,\n",
              " <p class=\"mantine-Text-root mantine-Text-root mantine-2bziid\">Hello Sehat ingin menjadi sumber informasi Anda dalam membuat keputusan kesehatan dan agar Anda bisa selalu hidup sehat dan bahagia.</p>,\n",
              " <p class=\"mantine-Text-root mantine-Text-root mantine-1tz5ydr\">Ikuti Kami</p>,\n",
              " <p class=\"mantine-Text-root mantine-Text-root footer-menu-title mantine-cu8m2x\">Informasi</p>,\n",
              " <p class=\"mantine-Text-root mantine-Text-root footer-menu-title mantine-cu8m2x\">Hello Sehat</p>,\n",
              " <p class=\"mantine-Text-root mantine-Text-root linkTitle mantine-1fgs72q\">Silakan kunjungi situs Hello Health lainnya</p>]"
            ]
          },
          "metadata": {},
          "execution_count": 8
        }
      ]
    },
    {
      "cell_type": "code",
      "source": [
        "full_text = []\n",
        "for paragraf in wp.find_all('p'):\n",
        "  full_text.append(paragraf.getText())\n",
        "\n",
        "  full_text"
      ],
      "metadata": {
        "id": "-0A8JcqfR2xq"
      },
      "execution_count": 11,
      "outputs": []
    },
    {
      "cell_type": "code",
      "source": [
        "full_text = [paragraf.strip() for paragraf in full_text if paragraf != \"\"]\n",
        "full_text"
      ],
      "metadata": {
        "colab": {
          "base_uri": "https://localhost:8080/"
        },
        "id": "jqqx_vVdSqHD",
        "outputId": "ac4b76d6-26fa-4481-8006-f0e6942aee87"
      },
      "execution_count": 12,
      "outputs": [
        {
          "output_type": "execute_result",
          "data": {
            "text/plain": [
              "['Kategori Kesehatan',\n",
              " 'Parenting',\n",
              " 'Kehamilan',\n",
              " 'Nutrisi',\n",
              " 'Kesehatan Kulit',\n",
              " 'Kesehatan Mental',\n",
              " 'Kesehatan Pernapasan',\n",
              " 'Galeri Fokus',\n",
              " 'Optimalkan Imunitas untuk Inteligensi Maksimal',\n",
              " 'Festival Soya 2024',\n",
              " 'Masako Rendah Garam',\n",
              " 'Cegah Anemia pada Anak',\n",
              " 'Cek Kondisi',\n",
              " 'Deteksi Dini Depresi Postpartum',\n",
              " 'Deteksi Dini Anemia Defisiensi Besi pada Anak',\n",
              " 'Deteksi Dini HPV',\n",
              " 'Kalkulator Kebutuhan Protein Anak',\n",
              " 'Vaksin Rotavirus',\n",
              " 'Tes Gangguan Kecemasan',\n",
              " 'Alat Kesehatan Favorit',\n",
              " 'Kalkulator BMI',\n",
              " 'Apakah berat badan Anda sudah ideal?',\n",
              " 'Deteksi Dini Depresi',\n",
              " 'Apakah Anda memiliki tingkat depresi yang tinggi saat ini?',\n",
              " 'Kalkulator Kebutuhan Kalori',\n",
              " 'Berapa jumlah kalori yang Anda butuhkan setiap hari?',\n",
              " 'Temukan komunitas Anda',\n",
              " 'Kehamilan',\n",
              " 'Parenting',\n",
              " 'Diabetes',\n",
              " 'Penyakit Infeksi',\n",
              " 'Kesehatan Wanita',\n",
              " 'Kesehatan Mental',\n",
              " 'Postingan Utama',\n",
              " 'Spesialisasi',\n",
              " 'Konseling Kesehatan Mental',\n",
              " 'Kebidanan dan Kandungan',\n",
              " 'Kesehatan anak',\n",
              " 'Penyakit Dalam / Internist',\n",
              " 'Dokter Gigi',\n",
              " 'Dermatologi',\n",
              " 'Rumah Sakit Terpopuler',\n",
              " 'Konten Disponsori oleh',\n",
              " 'Panduan',\n",
              " 'Banyak orang yang tidak begitu paham bagaimana caranya menerapkan pola hidup sehat, baik secara fisik dan mental. Padahal, kebiasaan hidup sehat dan bahagia adalah kunci panjang umur.',\n",
              " 'Artinya, semakin bahagia seseorang, maka besar pula kemungkinannya orang tersebut hidup lebih lama. Jadi, yuk mulai terapkan pola hidup sehat dengan berbagai cara atau tips di bawah ini.',\n",
              " 'Berikut beberapa kiat sederhana yang bisa Anda lakukan untuk memulai pola hidup sehat.',\n",
              " 'Macet di jalan,Â\\xa0deadlineÂ\\xa0tugas atau kerjaan yang mencekik, keuangan yang tersendat, hubungan asmara yang sedang renggang, dan berbagai prahara hidup lainnya tentu akan membuat Anda stres.',\n",
              " 'Saat Anda stres, semua sistem dalam tubuh Anda akan meresponsnya dengan cara yang berbeda-beda. Stres yang bersifat kronis dapat berdampak pada kesehatan Anda secara keseluruhan.',\n",
              " 'Jika Anda stres, cobalah untuk tenangkan diri sambil mengambil napas dalam-dalam dan embuskan secara perlahan. Lakukan hal tersebut berulang kali sampai merasa lebih rileks.',\n",
              " 'Anda juga bisa melakukan berbagai aktivitas lainnya yang Anda senangi, seperti membaca buku, menonton film, atau lainnya. Intinya, buatlah diri Anda merasa nyaman dengan cara yang Anda senangi.',\n",
              " 'Apa yang Anda makan tentu akan memengaruhi bagaimana tubuh Anda bekerja. Oleh sebab itu, penting bagi Anda untuk memperhatikan setiap makanan yang Anda konsumsi setiap hari demi mewujudkan pola hidup sehat.',\n",
              " 'Pastikan kalau makanan dalam piring Anda memenuhi prinsip gizi seimbang yang mencakup karbohidrat, serat, protein, dan lemak baik.',\n",
              " 'Perhatikan pula porsi makan Anda. Memperhatikan porsi makan sangatlah penting untuk mencegah Anda mengalami kegemukan dan terserang berbagai penyakit kronis. Ingat, apa pun yang berlebihan tentu tidak baik untuk tubuh.',\n",
              " 'Selain memilah makanan yang akan dikonsumsi, Anda juga harus bijak dalam mengolahnya. Hindari mengolah makanan dengan cara digoreng. Anda bisa mengolah makanan dengan cara yang lebih sehat, seperti direbus, dikukus, atau ditumis.',\n",
              " 'Olahraga tak melulu harusÂ\\xa0joggingÂ\\xa0atau pergi ke gym. Anda bebas melakukan berbagai jenis olahraga yang memang Anda sukai demi menerapkan kebiasaan pola hidup sehat.',\n",
              " 'Jika Anda suka bersepeda atau berenang, maka jangan ragu untuk melakukannya. Begitu pula jika hanya menyukai jalan santai. Kuncinya satu, buatlah tubuh Anda aktif bergerak setiap hari.',\n",
              " 'Dengan aktif bergerak, tubuh Anda akan berusaha untuk membakar kalori yang mengendap di tubuh. Selain itu,Â\\xa0 hal ini juga dapat membantu mengalirkan lebih banyak oksigen ke dalam sel-sel tubuh dan menjaganya tetap sehat.',\n",
              " 'Tak heran jika setelah olahraga atau melakukan aktivitas fisik Anda jadi merasa lebih bugar.',\n",
              " 'Nah, bagi Anda pekerja kantoran yang mungkin tidak memiliki banyak waktu untuk berolahraga, Anda bisa melakukan berbagai aktivitas fisik sederhana guna memastikan tubuh Anda tetap bergerak.',\n",
              " 'Saat menuju ruangan kantor, cobalah untuk memilih naik tangga ketimbang lift atau eskalator. Anda juga bisa meluangkan waktu untuk berjalan-jalan atau sekadar naik turun tangga sebelum dan sesudah makan siang.',\n",
              " 'Terkadang, dengan perubahan kecil dalam rutinitas sehari-hari bisa membantu Anda menjadi lebih aktif berolahraga.',\n",
              " 'Anda penyuka dessert alias makanan manis? Jika ya, cobalah untuk mengurangi atau bahkan menghindari berbagai makanan tersebut demi menjaga pola hidup sehat.',\n",
              " 'Pasalnya, asupan gula yang terlalu banyak dapat memicu penyakit diabetes. Nah, jika sudah terkena diabetes, Anda akan lebih rentan terkena berbagai penyakit kronis pada kemudian hari.',\n",
              " 'Mulailah kurangi gula secara perlahan. Jika biasanya Anda minum kopi dengan dua sendok gula, kini cobalah hanya satu sendok. Setelah terbiasa, Anda bisa menghilangkan asupan gula sama sekali dalam cangkir kopi yang Anda minum.',\n",
              " 'Sekitar 60% dari komposisi tubuh Anda adalah air. Setiap hari, cairan dalam tubuh akan terus berkurang lewat keringat, urine, dan bahkan setiap kali Anda bernapas.',\n",
              " 'Inilah mengapa penting untuk memastikan bahwa kebutuhan cairan Anda terpenuhi setiap hari supaya mencegah dehidrasi. Bawalah botol minum sendiri ke mana pun Anda pergi.',\n",
              " 'Masukkan botol tersebut ke dalam tas, sehingga Anda tidak akan lupa membawanya ke mana-mana. Selain itu, sediakan juga air putih di meja kerja atau kamar tidur.',\n",
              " 'Jika tidak ada, Anda bisa membeli air mineral yang ada di supermarket terdekat. Pastikan memilih air mineral yang mengandung sejumlah mineral, seperti kalium, natrium, magnesium, dan kalsium yang dibutuhkan oleh tubuh.Â',\n",
              " 'Dengan harga yang terjangkau, air mineral 100% murni dari pegunungan tanpa tambahan apapun.',\n",
              " 'Pastikan juga air mineral tersebut berasal dari sumber yang terlindungi, sehingga bebas dari cemaran dan pastinya aman untuk dikonsumsi.',\n",
              " 'Selain itu, rasanya yang dingin alami walau tidak didinginkan, sehingga cocok sebagai pelepas dahaga sekaligus memenuhi asupan cairan Anda setiap hari.',\n",
              " 'Rajin olahraga dan makan makanan yang bernutrisi tinggi akan berakhir sia-sia kalau Anda sendiri kurang tidur.',\n",
              " 'Menurut Cheri Mah, pakar masalah gangguan tidur di Stanford University dan University of California, tidur adalah kebutuhan paling mendasar untuk menuju pola hidup sehat.',\n",
              " 'Tidur menjadi sebuah fondasi di mana pikiran dan tubuh yang sehat terbentuk. Jika kebiasaan hidup sehat ini goyah, tentunya akan berdampak pada kesehatan Anda.',\n",
              " 'Menurut National Sleep Foundation, durasi tidur yang ideal bagi orang dewasa sekitar 7 â€“ 9 jam per malam. Jadi, pastikan kalau setiap malam Anda tidur setidaknya 7 â€“ 9 jam, ya!',\n",
              " 'Tak hanya gula, Anda juga harus perlahan-lahan mengurangi kebiasaan merokok dan minum alkohol.',\n",
              " 'Merokok tembakau menyebabkan penyakit tidak menular, seperti penyakit paru-paru, penyakit jantung, dan stroke. Tembakau membunuh tidak hanya perokok langsung, tetapi juga nonperokok melalui paparan tangan kedua.',\n",
              " 'Mengutip WHO, saat ini ada sekitar 15,9 juta orang dewasa yang merokok tembakau, tetapi tujuh dari sepuluh perokok tertarik atau berencana untuk berhenti.',\n",
              " 'Jadi, jika saat ini Anda seorang perokok, belum terlambat untuk berhenti merokok. Setelah Anda melakukannya, Anda akan merasakan manfaat kesehatan secara langsung dan jangka panjang.',\n",
              " 'Jika Anda bukan perokok, itu bagus! Jangan mulai merokok dan perjuangkan hak Anda untuk menghirup udara bebas asap rokok.',\n",
              " 'Selain itu, jauhi minuman beralkohol. Mengonsumsi alkohol dapat menyebabkan masalah kesehatan, seperti gangguan mental dan perilaku, termasuk ketergantungan alkohol.',\n",
              " 'Menjaga kebersihan rumah dan lingkungan menjadi salah satu komponen yang penting untuk menjalani kebiasaan hidup sehat.',\n",
              " 'Rumah yang bersih merupakan cerminan gaya hidup seseorang. Pastikan di setiap ruangan dan lingkungan sekitar rumah bersih karena kuman cepat berkembang biak di lingkungan yang kotor.',\n",
              " 'Usahakan ruangan terkena cahaya matahari dan memiliki ventilasi yang memadai. Selain itu, penting untuk menjaga kelembaban ruangan serta sirkulasi udara.',\n",
              " 'Pemeriksaan kesehatan secara rutin dapat membantu menemukan masalah kesehatan sedini mungkin.',\n",
              " 'Dokter mungkin dapat membantu menemukan dan mendiagnosis masalah kesehatan lebih awal, sehingga peluang Anda untuk perawatan dan penyembuhan lebih baik.',\n",
              " 'Kunjungi fasilitas kesehatan terdekat, seperti rumah sakit atau laboratorium klinik, untuk mendapatkan pemeriksaan dan pengobatan yang tepat.',\n",
              " 'Bila Anda memiliki kondisi medis tertentu, penting juga untuk mengetahui langkah-langkah pertolongan pertama dasar dari penyakit yang Anda derita',\n",
              " 'Menjaga kebersihan tangan sangat penting untuk semua orang. Tangan yang bersih dapat mencegah penyebaran penyakit menular.',\n",
              " 'Cara mencuci tangan yang benar, yakni harus menggunakan sabun dan air mengalir, terlebih ketika melihat tangan Anda kotor.',\n",
              " 'Selain itu, Anda bisa menggosok tangan menggunakan produk berbasis alkohol, seperti handsanitizer.',\n",
              " '[embed-health-tool-bmi]',\n",
              " 'Catatan',\n",
              " 'Hello Sehat tidak menyediakan saran medis, diagnosis, atau perawatan.  Selalu konsultasikan dengan ahli kesehatan profesional untuk mendapatkan jawaban dan penanganan masalah kesehatan Anda.',\n",
              " 'Sumber',\n",
              " '7 Ways to Jumpstart Healthy Change in Your Life â€“',\n",
              " 'https://www.health.harvard.edu/healthbeat/7-ways-to-jumpstart-healthy-change-in-your-life diakses pada 29 Januari 2019',\n",
              " '20 health tips for 2020. (2019, December 31). WHO | World Health Organization. Retrieved 12 July 2022, from https://www.who.int/philippines/news/feature-stories/detail/20-health-tips-for-2020',\n",
              " 'Healthy habits and lifestyle tips. (n.d.). Pediatric hospital in Virginia | Childrenâ€™s Hospital of Richmond at VCU | Childrenâ€™s Hospital of Richmond at VCU. Retrieved 12 July 2022, from https://www.chrichmond.org/services/weight-management-and-healthy-lifestyles-center/tips-to-develop-healthy-lifestyles',\n",
              " 'Live well. (2018, April 26). nhs.uk. Retrieved 12 July 2022, from https://www.nhs.uk/live-well/',\n",
              " '10 healthy lifestyle tips for adults. (n.d.). Retrieved 12 July 2022, from https://www.eufic.org/en/healthy-living/article/10-healthy-lifestyle-tips-for-adults',\n",
              " 'Riwayat Pengerjaan',\n",
              " 'Versi Terbaru',\n",
              " '30/10/2023',\n",
              " 'Ditulis oleh Adhenda Madarina',\n",
              " 'Ditinjau secara medis oleh dr. Carla Pramudita Susanto',\n",
              " 'Diperbarui oleh: Kenny Mangkona',\n",
              " 'Artikel Terkait',\n",
              " 'Ditinjau secara medis oleh',\n",
              " 'dr. Carla Pramudita Susanto',\n",
              " 'General Practitioner Â· Klinik Laboratorium Pramita',\n",
              " 'Ditulis oleh Adhenda Madarina Â· Tanggal diperbarui 30/10/2023',\n",
              " 'Apakah artikel ini membantu?',\n",
              " 'Hello Sehat ingin menjadi sumber informasi Anda dalam membuat keputusan kesehatan dan agar Anda bisa selalu hidup sehat dan bahagia.',\n",
              " 'Ikuti Kami',\n",
              " 'Informasi',\n",
              " 'Hello Sehat',\n",
              " 'Silakan kunjungi situs Hello Health lainnya']"
            ]
          },
          "metadata": {},
          "execution_count": 12
        }
      ]
    },
    {
      "cell_type": "code",
      "source": [
        "full_text = ' '.join(full_text)\n",
        "full_text"
      ],
      "metadata": {
        "colab": {
          "base_uri": "https://localhost:8080/",
          "height": 1000
        },
        "id": "sxovWdYaSsr-",
        "outputId": "c7e8ead5-cd84-4901-ad71-0a86ec84c07c"
      },
      "execution_count": 13,
      "outputs": [
        {
          "output_type": "execute_result",
          "data": {
            "text/plain": [
              "'Kategori Kesehatan Parenting Kehamilan Nutrisi Kesehatan Kulit Kesehatan Mental Kesehatan Pernapasan Galeri Fokus Optimalkan Imunitas untuk Inteligensi Maksimal Festival Soya 2024 Masako Rendah Garam Cegah Anemia pada Anak Cek Kondisi Deteksi Dini Depresi Postpartum Deteksi Dini Anemia Defisiensi Besi pada Anak Deteksi Dini HPV Kalkulator Kebutuhan Protein Anak Vaksin Rotavirus Tes Gangguan Kecemasan Alat Kesehatan Favorit Kalkulator BMI Apakah berat badan Anda sudah ideal? Deteksi Dini Depresi Apakah Anda memiliki tingkat depresi yang tinggi saat ini? Kalkulator Kebutuhan Kalori Berapa jumlah kalori yang Anda butuhkan setiap hari? Temukan komunitas Anda Kehamilan Parenting Diabetes Penyakit Infeksi Kesehatan Wanita Kesehatan Mental Postingan Utama Spesialisasi Konseling Kesehatan Mental Kebidanan dan Kandungan Kesehatan anak Penyakit Dalam / Internist Dokter Gigi Dermatologi Rumah Sakit Terpopuler Konten Disponsori oleh Panduan Banyak orang yang tidak begitu paham bagaimana caranya menerapkan pola hidup sehat, baik secara fisik dan mental. Padahal, kebiasaan hidup sehat dan bahagia adalah kunci panjang umur. Artinya, semakin bahagia seseorang, maka besar pula kemungkinannya orang tersebut hidup lebih lama. Jadi, yuk mulai terapkan pola hidup sehat dengan berbagai cara atau tips di bawah ini. Berikut beberapa kiat sederhana yang bisa Anda lakukan untuk memulai pola hidup sehat. Macet di jalan,Â\\xa0deadlineÂ\\xa0tugas atau kerjaan yang mencekik, keuangan yang tersendat, hubungan asmara yang sedang renggang, dan berbagai prahara hidup lainnya tentu akan membuat Anda stres. Saat Anda stres, semua sistem dalam tubuh Anda akan meresponsnya dengan cara yang berbeda-beda. Stres yang bersifat kronis dapat berdampak pada kesehatan Anda secara keseluruhan. Jika Anda stres, cobalah untuk tenangkan diri sambil mengambil napas dalam-dalam dan embuskan secara perlahan. Lakukan hal tersebut berulang kali sampai merasa lebih rileks. Anda juga bisa melakukan berbagai aktivitas lainnya yang Anda senangi, seperti membaca buku, menonton film, atau lainnya. Intinya, buatlah diri Anda merasa nyaman dengan cara yang Anda senangi. Apa yang Anda makan tentu akan memengaruhi bagaimana tubuh Anda bekerja. Oleh sebab itu, penting bagi Anda untuk memperhatikan setiap makanan yang Anda konsumsi setiap hari demi mewujudkan pola hidup sehat. Pastikan kalau makanan dalam piring Anda memenuhi prinsip gizi seimbang yang mencakup karbohidrat, serat, protein, dan lemak baik. Perhatikan pula porsi makan Anda. Memperhatikan porsi makan sangatlah penting untuk mencegah Anda mengalami kegemukan dan terserang berbagai penyakit kronis. Ingat, apa pun yang berlebihan tentu tidak baik untuk tubuh. Selain memilah makanan yang akan dikonsumsi, Anda juga harus bijak dalam mengolahnya. Hindari mengolah makanan dengan cara digoreng. Anda bisa mengolah makanan dengan cara yang lebih sehat, seperti direbus, dikukus, atau ditumis. Olahraga tak melulu harusÂ\\xa0joggingÂ\\xa0atau pergi ke gym. Anda bebas melakukan berbagai jenis olahraga yang memang Anda sukai demi menerapkan kebiasaan pola hidup sehat. Jika Anda suka bersepeda atau berenang, maka jangan ragu untuk melakukannya. Begitu pula jika hanya menyukai jalan santai. Kuncinya satu, buatlah tubuh Anda aktif bergerak setiap hari. Dengan aktif bergerak, tubuh Anda akan berusaha untuk membakar kalori yang mengendap di tubuh. Selain itu,Â\\xa0 hal ini juga dapat membantu mengalirkan lebih banyak oksigen ke dalam sel-sel tubuh dan menjaganya tetap sehat. Tak heran jika setelah olahraga atau melakukan aktivitas fisik Anda jadi merasa lebih bugar. Nah, bagi Anda pekerja kantoran yang mungkin tidak memiliki banyak waktu untuk berolahraga, Anda bisa melakukan berbagai aktivitas fisik sederhana guna memastikan tubuh Anda tetap bergerak. Saat menuju ruangan kantor, cobalah untuk memilih naik tangga ketimbang lift atau eskalator. Anda juga bisa meluangkan waktu untuk berjalan-jalan atau sekadar naik turun tangga sebelum dan sesudah makan siang. Terkadang, dengan perubahan kecil dalam rutinitas sehari-hari bisa membantu Anda menjadi lebih aktif berolahraga. Anda penyuka dessert alias makanan manis? Jika ya, cobalah untuk mengurangi atau bahkan menghindari berbagai makanan tersebut demi menjaga pola hidup sehat. Pasalnya, asupan gula yang terlalu banyak dapat memicu penyakit diabetes. Nah, jika sudah terkena diabetes, Anda akan lebih rentan terkena berbagai penyakit kronis pada kemudian hari. Mulailah kurangi gula secara perlahan. Jika biasanya Anda minum kopi dengan dua sendok gula, kini cobalah hanya satu sendok. Setelah terbiasa, Anda bisa menghilangkan asupan gula sama sekali dalam cangkir kopi yang Anda minum. Sekitar 60% dari komposisi tubuh Anda adalah air. Setiap hari, cairan dalam tubuh akan terus berkurang lewat keringat, urine, dan bahkan setiap kali Anda bernapas. Inilah mengapa penting untuk memastikan bahwa kebutuhan cairan Anda terpenuhi setiap hari supaya mencegah dehidrasi. Bawalah botol minum sendiri ke mana pun Anda pergi. Masukkan botol tersebut ke dalam tas, sehingga Anda tidak akan lupa membawanya ke mana-mana. Selain itu, sediakan juga air putih di meja kerja atau kamar tidur. Jika tidak ada, Anda bisa membeli air mineral yang ada di supermarket terdekat. Pastikan memilih air mineral yang mengandung sejumlah mineral, seperti kalium, natrium, magnesium, dan kalsium yang dibutuhkan oleh tubuh.Â Dengan harga yang terjangkau, air mineral 100% murni dari pegunungan tanpa tambahan apapun. Pastikan juga air mineral tersebut berasal dari sumber yang terlindungi, sehingga bebas dari cemaran dan pastinya aman untuk dikonsumsi. Selain itu, rasanya yang dingin alami walau tidak didinginkan, sehingga cocok sebagai pelepas dahaga sekaligus memenuhi asupan cairan Anda setiap hari. Rajin olahraga dan makan makanan yang bernutrisi tinggi akan berakhir sia-sia kalau Anda sendiri kurang tidur. Menurut Cheri Mah, pakar masalah gangguan tidur di Stanford University dan University of California, tidur adalah kebutuhan paling mendasar untuk menuju pola hidup sehat. Tidur menjadi sebuah fondasi di mana pikiran dan tubuh yang sehat terbentuk. Jika kebiasaan hidup sehat ini goyah, tentunya akan berdampak pada kesehatan Anda. Menurut National Sleep Foundation, durasi tidur yang ideal bagi orang dewasa sekitar 7 â€“ 9 jam per malam. Jadi, pastikan kalau setiap malam Anda tidur setidaknya 7 â€“ 9 jam, ya! Tak hanya gula, Anda juga harus perlahan-lahan mengurangi kebiasaan merokok dan minum alkohol. Merokok tembakau menyebabkan penyakit tidak menular, seperti penyakit paru-paru, penyakit jantung, dan stroke. Tembakau membunuh tidak hanya perokok langsung, tetapi juga nonperokok melalui paparan tangan kedua. Mengutip WHO, saat ini ada sekitar 15,9 juta orang dewasa yang merokok tembakau, tetapi tujuh dari sepuluh perokok tertarik atau berencana untuk berhenti. Jadi, jika saat ini Anda seorang perokok, belum terlambat untuk berhenti merokok. Setelah Anda melakukannya, Anda akan merasakan manfaat kesehatan secara langsung dan jangka panjang. Jika Anda bukan perokok, itu bagus! Jangan mulai merokok dan perjuangkan hak Anda untuk menghirup udara bebas asap rokok. Selain itu, jauhi minuman beralkohol. Mengonsumsi alkohol dapat menyebabkan masalah kesehatan, seperti gangguan mental dan perilaku, termasuk ketergantungan alkohol. Menjaga kebersihan rumah dan lingkungan menjadi salah satu komponen yang penting untuk menjalani kebiasaan hidup sehat. Rumah yang bersih merupakan cerminan gaya hidup seseorang. Pastikan di setiap ruangan dan lingkungan sekitar rumah bersih karena kuman cepat berkembang biak di lingkungan yang kotor. Usahakan ruangan terkena cahaya matahari dan memiliki ventilasi yang memadai. Selain itu, penting untuk menjaga kelembaban ruangan serta sirkulasi udara. Pemeriksaan kesehatan secara rutin dapat membantu menemukan masalah kesehatan sedini mungkin. Dokter mungkin dapat membantu menemukan dan mendiagnosis masalah kesehatan lebih awal, sehingga peluang Anda untuk perawatan dan penyembuhan lebih baik. Kunjungi fasilitas kesehatan terdekat, seperti rumah sakit atau laboratorium klinik, untuk mendapatkan pemeriksaan dan pengobatan yang tepat. Bila Anda memiliki kondisi medis tertentu, penting juga untuk mengetahui langkah-langkah pertolongan pertama dasar dari penyakit yang Anda derita Menjaga kebersihan tangan sangat penting untuk semua orang. Tangan yang bersih dapat mencegah penyebaran penyakit menular. Cara mencuci tangan yang benar, yakni harus menggunakan sabun dan air mengalir, terlebih ketika melihat tangan Anda kotor. Selain itu, Anda bisa menggosok tangan menggunakan produk berbasis alkohol, seperti handsanitizer. [embed-health-tool-bmi] Catatan Hello Sehat tidak menyediakan saran medis, diagnosis, atau perawatan.  Selalu konsultasikan dengan ahli kesehatan profesional untuk mendapatkan jawaban dan penanganan masalah kesehatan Anda. Sumber 7 Ways to Jumpstart Healthy Change in Your Life â€“ https://www.health.harvard.edu/healthbeat/7-ways-to-jumpstart-healthy-change-in-your-life diakses pada 29 Januari 2019 20 health tips for 2020. (2019, December 31). WHO | World Health Organization. Retrieved 12 July 2022, from https://www.who.int/philippines/news/feature-stories/detail/20-health-tips-for-2020 Healthy habits and lifestyle tips. (n.d.). Pediatric hospital in Virginia | Childrenâ€™s Hospital of Richmond at VCU | Childrenâ€™s Hospital of Richmond at VCU. Retrieved 12 July 2022, from https://www.chrichmond.org/services/weight-management-and-healthy-lifestyles-center/tips-to-develop-healthy-lifestyles Live well. (2018, April 26). nhs.uk. Retrieved 12 July 2022, from https://www.nhs.uk/live-well/ 10 healthy lifestyle tips for adults. (n.d.). Retrieved 12 July 2022, from https://www.eufic.org/en/healthy-living/article/10-healthy-lifestyle-tips-for-adults Riwayat Pengerjaan Versi Terbaru 30/10/2023 Ditulis oleh Adhenda Madarina Ditinjau secara medis oleh dr. Carla Pramudita Susanto Diperbarui oleh: Kenny Mangkona Artikel Terkait Ditinjau secara medis oleh dr. Carla Pramudita Susanto General Practitioner Â· Klinik Laboratorium Pramita Ditulis oleh Adhenda Madarina Â· Tanggal diperbarui 30/10/2023 Apakah artikel ini membantu? Hello Sehat ingin menjadi sumber informasi Anda dalam membuat keputusan kesehatan dan agar Anda bisa selalu hidup sehat dan bahagia. Ikuti Kami Informasi Hello Sehat Silakan kunjungi situs Hello Health lainnya'"
            ],
            "application/vnd.google.colaboratory.intrinsic+json": {
              "type": "string"
            }
          },
          "metadata": {},
          "execution_count": 13
        }
      ]
    }
  ]
}