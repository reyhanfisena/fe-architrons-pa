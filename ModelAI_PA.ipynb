{
  "nbformat": 4,
  "nbformat_minor": 0,
  "metadata": {
    "colab": {
      "provenance": [],
      "authorship_tag": "ABX9TyMOils9uilahNjitbhnep6P",
      "include_colab_link": true
    },
    "kernelspec": {
      "name": "python3",
      "display_name": "Python 3"
    },
    "language_info": {
      "name": "python"
    }
  },
  "cells": [
    {
      "cell_type": "markdown",
      "metadata": {
        "id": "view-in-github",
        "colab_type": "text"
      },
      "source": [
        "<a href=\"https://colab.research.google.com/github/reyhanfisena/fe-architrons-pa/blob/main/ModelAI_PA.ipynb\" target=\"_parent\"><img src=\"https://colab.research.google.com/assets/colab-badge.svg\" alt=\"Open In Colab\"/></a>"
      ]
    },
    {
      "cell_type": "markdown",
      "source": [
        "# Import Data Set"
      ],
      "metadata": {
        "id": "yAQaFKfzTso1"
      }
    },
    {
      "cell_type": "code",
      "execution_count": 5,
      "metadata": {
        "colab": {
          "base_uri": "https://localhost:8080/"
        },
        "id": "s0Og7Yq-R5gX",
        "outputId": "a4eb2218-abd3-47c6-bf6d-36ca7b61e340"
      },
      "outputs": [
        {
          "output_type": "stream",
          "name": "stdout",
          "text": [
            "<class 'pandas.core.frame.DataFrame'>\n",
            "RangeIndex: 151 entries, 0 to 150\n",
            "Data columns (total 14 columns):\n",
            " #   Column               Non-Null Count  Dtype  \n",
            "---  ------               --------------  -----  \n",
            " 0   No                   151 non-null    int64  \n",
            " 1   Tipe Rumah           151 non-null    object \n",
            " 2   Luas Tanah (m²)      151 non-null    int64  \n",
            " 3   Luas Bangunan (m²)   151 non-null    int64  \n",
            " 4   Jumlah Lantai        151 non-null    int64  \n",
            " 5   Jumlah Kamar Tidur   149 non-null    float64\n",
            " 6   Jumlah Kamar Mandi   149 non-null    float64\n",
            " 7   Tipe Atap            150 non-null    object \n",
            " 8   Tipe Dinding         151 non-null    object \n",
            " 9   Tipe Pondasi         151 non-null    object \n",
            " 10  Material Utama       150 non-null    object \n",
            " 11  Jumlah Tenaga Kerja  150 non-null    float64\n",
            " 12  Durasi (Hari)        150 non-null    float64\n",
            " 13  Biaya Proyek (Rp)    149 non-null    object \n",
            "dtypes: float64(4), int64(4), object(6)\n",
            "memory usage: 16.6+ KB\n"
          ]
        },
        {
          "output_type": "execute_result",
          "data": {
            "text/plain": [
              "(   No Tipe Rumah  Luas Tanah (m²)  Luas Bangunan (m²)  Jumlah Lantai  \\\n",
              " 0   1    Tipe 54               79                  54              1   \n",
              " 1   2    Tipe 36               73                  36              1   \n",
              " 2   3    Tipe 60              190                  60              2   \n",
              " 3   4    Tipe 54              198                  54              1   \n",
              " 4   5    Tipe 54              112                  54              2   \n",
              " \n",
              "    Jumlah Kamar Tidur  Jumlah Kamar Mandi        Tipe Atap Tipe Dinding  \\\n",
              " 0                 3.0                 1.0        Atap Seng   Bata Merah   \n",
              " 1                 2.0                 1.0        Atap Seng   Bata Merah   \n",
              " 2                 3.0                 3.0    Genteng Beton       Batako   \n",
              " 3                 3.0                 2.0  Genteng Keramik       Batako   \n",
              " 4                 2.0                 3.0    Genteng Beton  Bata Ringan   \n",
              " \n",
              "       Tipe Pondasi Material Utama  Jumlah Tenaga Kerja  Durasi (Hari)  \\\n",
              " 0  Beton Bertulang           Kayu                  8.0           72.0   \n",
              " 1        Batu Kali           Besi                  6.0           65.0   \n",
              " 2        Batu Kali          Beton                 10.0          135.0   \n",
              " 3       Cakar Ayam           Baja                 12.0          155.0   \n",
              " 4  Beton Bertulang           Kayu                 12.0          160.0   \n",
              " \n",
              "   Biaya Proyek (Rp)  \n",
              " 0     Rp703,614,953  \n",
              " 1     Rp523,875,699  \n",
              " 2     Rp594,677,752  \n",
              " 3     Rp162,874,869  \n",
              " 4     Rp498,267,732  ,\n",
              " None)"
            ]
          },
          "metadata": {},
          "execution_count": 5
        }
      ],
      "source": [
        "import pandas as pd\n",
        "\n",
        "# Load the dataset to understand its structure\n",
        "df = pd.read_csv('Dataset-FIX.csv')\n",
        "\n",
        "# Display the first few rows of the dataset and column information\n",
        "df.head(), df.info()"
      ]
    },
    {
      "cell_type": "markdown",
      "source": [
        "# Data Preprocessing"
      ],
      "metadata": {
        "id": "O3rBzMH9U2V0"
      }
    },
    {
      "cell_type": "code",
      "source": [
        "# Step 1: Data Preprocessing\n",
        "\n",
        "# Handle missing values by filling with median for numerical columns and mode for categorical columns\n",
        "df['Jumlah Kamar Tidur'].fillna(df['Jumlah Kamar Tidur'].median(), inplace=True)\n",
        "df['Jumlah Kamar Mandi'].fillna(df['Jumlah Kamar Mandi'].median(), inplace=True)\n",
        "df['Tipe Atap'].fillna(df['Tipe Atap'].mode()[0], inplace=True)\n",
        "df['Material Utama'].fillna(df['Material Utama'].mode()[0], inplace=True)\n",
        "df['Jumlah Tenaga Kerja'].fillna(df['Jumlah Tenaga Kerja'].median(), inplace=True)\n",
        "df['Durasi (Hari)'].fillna(df['Durasi (Hari)'].median(), inplace=True)\n",
        "df['Biaya Proyek (Rp)'].fillna(df['Biaya Proyek (Rp)'].mode()[0], inplace=True)\n",
        "\n",
        "# Clean and convert 'Biaya Proyek (Rp)' to numeric by removing 'Rp' and commas, then casting to float\n",
        "df['Biaya Proyek (Rp)'] = df['Biaya Proyek (Rp)'].replace({'Rp': '', ',': ''}, regex=True).astype(float)\n",
        "\n",
        "# Drop non-relevant columns for prediction (e.g., 'No')\n",
        "df.drop(columns=['No'], inplace=True)\n",
        "\n",
        "# Convert categorical columns to numeric using one-hot encoding\n",
        "categorical_columns = ['Tipe Rumah', 'Tipe Atap', 'Tipe Dinding', 'Tipe Pondasi', 'Material Utama']\n",
        "dataset = pd.get_dummies(df, columns=categorical_columns, drop_first=True)\n",
        "\n",
        "# Separate features and target variables for both models\n",
        "X = df.drop(columns=['Durasi (Hari)', 'Biaya Proyek (Rp)'])\n",
        "y_duration = df['Durasi (Hari)']  # Target for duration prediction\n",
        "y_cost = df['Biaya Proyek (Rp)']  # Target for cost prediction\n",
        "\n",
        "# Check the prepared dataset\n",
        "X.head(), y_duration.head(), y_cost.head()\n"
      ],
      "metadata": {
        "colab": {
          "base_uri": "https://localhost:8080/"
        },
        "id": "3I-bPvcxU1_H",
        "outputId": "4bd7163c-d889-4c3e-93fe-575d074c33a0"
      },
      "execution_count": 6,
      "outputs": [
        {
          "output_type": "stream",
          "name": "stderr",
          "text": [
            "<ipython-input-6-67d275ff188a>:4: FutureWarning: A value is trying to be set on a copy of a DataFrame or Series through chained assignment using an inplace method.\n",
            "The behavior will change in pandas 3.0. This inplace method will never work because the intermediate object on which we are setting values always behaves as a copy.\n",
            "\n",
            "For example, when doing 'df[col].method(value, inplace=True)', try using 'df.method({col: value}, inplace=True)' or df[col] = df[col].method(value) instead, to perform the operation inplace on the original object.\n",
            "\n",
            "\n",
            "  df['Jumlah Kamar Tidur'].fillna(df['Jumlah Kamar Tidur'].median(), inplace=True)\n",
            "<ipython-input-6-67d275ff188a>:5: FutureWarning: A value is trying to be set on a copy of a DataFrame or Series through chained assignment using an inplace method.\n",
            "The behavior will change in pandas 3.0. This inplace method will never work because the intermediate object on which we are setting values always behaves as a copy.\n",
            "\n",
            "For example, when doing 'df[col].method(value, inplace=True)', try using 'df.method({col: value}, inplace=True)' or df[col] = df[col].method(value) instead, to perform the operation inplace on the original object.\n",
            "\n",
            "\n",
            "  df['Jumlah Kamar Mandi'].fillna(df['Jumlah Kamar Mandi'].median(), inplace=True)\n",
            "<ipython-input-6-67d275ff188a>:6: FutureWarning: A value is trying to be set on a copy of a DataFrame or Series through chained assignment using an inplace method.\n",
            "The behavior will change in pandas 3.0. This inplace method will never work because the intermediate object on which we are setting values always behaves as a copy.\n",
            "\n",
            "For example, when doing 'df[col].method(value, inplace=True)', try using 'df.method({col: value}, inplace=True)' or df[col] = df[col].method(value) instead, to perform the operation inplace on the original object.\n",
            "\n",
            "\n",
            "  df['Tipe Atap'].fillna(df['Tipe Atap'].mode()[0], inplace=True)\n",
            "<ipython-input-6-67d275ff188a>:7: FutureWarning: A value is trying to be set on a copy of a DataFrame or Series through chained assignment using an inplace method.\n",
            "The behavior will change in pandas 3.0. This inplace method will never work because the intermediate object on which we are setting values always behaves as a copy.\n",
            "\n",
            "For example, when doing 'df[col].method(value, inplace=True)', try using 'df.method({col: value}, inplace=True)' or df[col] = df[col].method(value) instead, to perform the operation inplace on the original object.\n",
            "\n",
            "\n",
            "  df['Material Utama'].fillna(df['Material Utama'].mode()[0], inplace=True)\n",
            "<ipython-input-6-67d275ff188a>:8: FutureWarning: A value is trying to be set on a copy of a DataFrame or Series through chained assignment using an inplace method.\n",
            "The behavior will change in pandas 3.0. This inplace method will never work because the intermediate object on which we are setting values always behaves as a copy.\n",
            "\n",
            "For example, when doing 'df[col].method(value, inplace=True)', try using 'df.method({col: value}, inplace=True)' or df[col] = df[col].method(value) instead, to perform the operation inplace on the original object.\n",
            "\n",
            "\n",
            "  df['Jumlah Tenaga Kerja'].fillna(df['Jumlah Tenaga Kerja'].median(), inplace=True)\n",
            "<ipython-input-6-67d275ff188a>:9: FutureWarning: A value is trying to be set on a copy of a DataFrame or Series through chained assignment using an inplace method.\n",
            "The behavior will change in pandas 3.0. This inplace method will never work because the intermediate object on which we are setting values always behaves as a copy.\n",
            "\n",
            "For example, when doing 'df[col].method(value, inplace=True)', try using 'df.method({col: value}, inplace=True)' or df[col] = df[col].method(value) instead, to perform the operation inplace on the original object.\n",
            "\n",
            "\n",
            "  df['Durasi (Hari)'].fillna(df['Durasi (Hari)'].median(), inplace=True)\n",
            "<ipython-input-6-67d275ff188a>:10: FutureWarning: A value is trying to be set on a copy of a DataFrame or Series through chained assignment using an inplace method.\n",
            "The behavior will change in pandas 3.0. This inplace method will never work because the intermediate object on which we are setting values always behaves as a copy.\n",
            "\n",
            "For example, when doing 'df[col].method(value, inplace=True)', try using 'df.method({col: value}, inplace=True)' or df[col] = df[col].method(value) instead, to perform the operation inplace on the original object.\n",
            "\n",
            "\n",
            "  df['Biaya Proyek (Rp)'].fillna(df['Biaya Proyek (Rp)'].mode()[0], inplace=True)\n"
          ]
        },
        {
          "output_type": "execute_result",
          "data": {
            "text/plain": [
              "(  Tipe Rumah  Luas Tanah (m²)  Luas Bangunan (m²)  Jumlah Lantai  \\\n",
              " 0    Tipe 54               79                  54              1   \n",
              " 1    Tipe 36               73                  36              1   \n",
              " 2    Tipe 60              190                  60              2   \n",
              " 3    Tipe 54              198                  54              1   \n",
              " 4    Tipe 54              112                  54              2   \n",
              " \n",
              "    Jumlah Kamar Tidur  Jumlah Kamar Mandi        Tipe Atap Tipe Dinding  \\\n",
              " 0                 3.0                 1.0        Atap Seng   Bata Merah   \n",
              " 1                 2.0                 1.0        Atap Seng   Bata Merah   \n",
              " 2                 3.0                 3.0    Genteng Beton       Batako   \n",
              " 3                 3.0                 2.0  Genteng Keramik       Batako   \n",
              " 4                 2.0                 3.0    Genteng Beton  Bata Ringan   \n",
              " \n",
              "       Tipe Pondasi Material Utama  Jumlah Tenaga Kerja  \n",
              " 0  Beton Bertulang           Kayu                  8.0  \n",
              " 1        Batu Kali           Besi                  6.0  \n",
              " 2        Batu Kali          Beton                 10.0  \n",
              " 3       Cakar Ayam           Baja                 12.0  \n",
              " 4  Beton Bertulang           Kayu                 12.0  ,\n",
              " 0     72.0\n",
              " 1     65.0\n",
              " 2    135.0\n",
              " 3    155.0\n",
              " 4    160.0\n",
              " Name: Durasi (Hari), dtype: float64,\n",
              " 0    703614953.0\n",
              " 1    523875699.0\n",
              " 2    594677752.0\n",
              " 3    162874869.0\n",
              " 4    498267732.0\n",
              " Name: Biaya Proyek (Rp), dtype: float64)"
            ]
          },
          "metadata": {},
          "execution_count": 6
        }
      ]
    }
  ]
}