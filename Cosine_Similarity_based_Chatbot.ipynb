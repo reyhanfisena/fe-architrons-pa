{
  "cells": [
    {
      "cell_type": "markdown",
      "metadata": {
        "id": "view-in-github",
        "colab_type": "text"
      },
      "source": [
        "<a href=\"https://colab.research.google.com/github/reyhanfisena/Architrons-Construction-predict/blob/main/Cosine_Similarity_based_Chatbot.ipynb\" target=\"_parent\"><img src=\"https://colab.research.google.com/assets/colab-badge.svg\" alt=\"Open In Colab\"/></a>"
      ]
    },
    {
      "cell_type": "markdown",
      "source": [
        "## Import Library"
      ],
      "metadata": {
        "id": "OklG8GqqCPmD"
      }
    },
    {
      "cell_type": "code",
      "source": [
        "import numpy as np\n",
        "import pandas as pd\n",
        "import string\n",
        "import nltk\n",
        "from sklearn.feature_extraction.text import TfidfVectorizer\n",
        "from sklearn.metrics.pairwise import cosine_similarity\n",
        "\n",
        "# Download stopwords jika belum ada\n",
        "nltk.download('stopwords')\n",
        "from nltk.corpus import stopwords"
      ],
      "metadata": {
        "colab": {
          "base_uri": "https://localhost:8080/"
        },
        "id": "lReAh_lzCScn",
        "outputId": "b5ed9ed6-f75e-4f44-c59c-847d3f9347d4"
      },
      "execution_count": 117,
      "outputs": [
        {
          "output_type": "stream",
          "name": "stderr",
          "text": [
            "[nltk_data] Downloading package stopwords to /root/nltk_data...\n",
            "[nltk_data]   Package stopwords is already up-to-date!\n"
          ]
        }
      ]
    },
    {
      "cell_type": "markdown",
      "source": [
        "##Load Dataset"
      ],
      "metadata": {
        "id": "sZstzyT-CVzh"
      }
    },
    {
      "cell_type": "code",
      "source": [
        "def load_dataset(file_path):\n",
        "    questions = []\n",
        "    answers = []\n",
        "    with open(file_path, 'r', encoding='utf-8') as file:\n",
        "        for line in file:\n",
        "            if '?' in line:\n",
        "                q, a = line.strip().split('?', 1)\n",
        "                questions.append(q + '?')\n",
        "                answers.append(a.strip())\n",
        "    return questions, answers\n",
        "\n",
        "# Load dataset\n",
        "file_path = 'drive/MyDrive/data_kesehatan.txt'\n",
        "questions, answers = load_dataset(file_path)\n",
        "\n",
        "# Tampilkan beberapa contoh data\n",
        "print(\"Contoh Pertanyaan:\", questions)\n",
        "print(\"Contoh Jawaban:\", answers)"
      ],
      "metadata": {
        "colab": {
          "base_uri": "https://localhost:8080/"
        },
        "id": "Uigr1u9sCZku",
        "outputId": "987385f7-2980-4188-80b1-4eaf275fcbb7"
      },
      "execution_count": 123,
      "outputs": [
        {
          "output_type": "stream",
          "name": "stdout",
          "text": [
            "Contoh Pertanyaan: ['Apa itu pola makan sehat?', 'Bagaimana cara mengurangi berat badan dengan aman?', 'Apa saja gejala umum dari tekanan darah tinggi?', 'Apa manfaat dari berolahraga setiap hari?', 'Bagaimana cara menjaga kesehatan mental?', 'Apa penyebab utama diabetes tipe 2?', 'Bagaimana cara menjaga kesehatan jantung?', 'Berapa lama waktu tidur yang ideal bagi orang dewasa?', 'Apa saja makanan yang baik untuk kesehatan otak?', 'Apakah penting untuk mengonsumsi cukup air setiap hari?', 'Apa yang dimaksud dengan detoksifikasi tubuh?', 'Bagaimana cara mengurangi stres?', 'Mengapa penting untuk memiliki pola makan yang teratur?', 'Apa yang harus dilakukan saat terkena flu?', 'Bagaimana cara menghindari osteoporosis?', 'Apa saja tips untuk memiliki kulit sehat?', 'Bagaimana cara menambah berat badan secara sehat?', 'Apa itu diet ketogenik?', 'Bagaimana cara meningkatkan sistem kekebalan tubuh?', 'Apa yang harus dilakukan untuk menjaga kesehatan mata?']\n",
            "Contoh Jawaban: ['Pola makan sehat adalah pola makan yang mengandung nutrisi seimbang untuk menjaga kesehatan tubuh.', 'Untuk mengurangi berat badan dengan aman, fokus pada pola makan sehat, perbanyak sayuran, kurangi gula, dan lakukan olahraga secara rutin.', 'Gejala tekanan darah tinggi dapat meliputi sakit kepala, pusing, detak jantung tidak teratur, dan sering merasa lelah.', 'Berolahraga setiap hari membantu meningkatkan kesehatan jantung, mengurangi stres, menguatkan otot, dan meningkatkan kebugaran tubuh.', 'Menjaga kesehatan mental bisa dilakukan dengan meditasi, tidur cukup, mengatur waktu untuk bersantai, dan berinteraksi dengan orang yang positif.', 'Diabetes tipe 2 umumnya disebabkan oleh pola makan yang tinggi gula, kurangnya aktivitas fisik, dan faktor genetik.', 'Menjaga kesehatan jantung dapat dilakukan dengan berolahraga secara teratur, mengurangi konsumsi lemak jenuh, dan menghindari merokok serta alkohol.', 'Orang dewasa disarankan untuk tidur antara 7 hingga 9 jam per malam untuk menjaga kesehatan tubuh dan pikiran.', 'Makanan yang baik untuk kesehatan otak meliputi ikan berlemak (seperti salmon), kacang-kacangan, biji-bijian, buah beri, dan sayuran hijau.', 'Ya, penting untuk minum cukup air setiap hari untuk menjaga fungsi tubuh, menghindari dehidrasi, dan membantu metabolisme.', 'Detoksifikasi tubuh adalah proses pembersihan tubuh dari racun dengan cara alami seperti minum air, makan makanan kaya serat, dan menghindari makanan olahan.', 'Cara mengurangi stres meliputi melakukan latihan pernapasan, meditasi, tidur cukup, dan meluangkan waktu untuk melakukan hobi atau kegiatan yang menyenangkan.', 'Pola makan yang teratur membantu menjaga kadar gula darah stabil, meningkatkan energi, dan mencegah kebiasaan makan berlebihan.', 'Saat terkena flu, istirahat yang cukup, minum banyak air, dan mengonsumsi makanan bernutrisi tinggi untuk membantu pemulihan tubuh.', 'Menghindari osteoporosis dapat dilakukan dengan asupan kalsium dan vitamin D yang cukup, berolahraga rutin, dan menghindari konsumsi alkohol dan merokok.', 'Tips untuk memiliki kulit sehat termasuk menjaga pola makan seimbang, cukup minum air, melindungi kulit dari sinar matahari, dan membersihkan kulit secara teratur.', 'Untuk menambah berat badan secara sehat, makan makanan berprotein tinggi, tambah asupan kalori dengan lemak sehat, dan lakukan latihan beban.', 'Diet ketogenik adalah pola makan rendah karbohidrat dan tinggi lemak yang bertujuan memicu tubuh menggunakan lemak sebagai sumber energi utama.', 'Cara meningkatkan sistem kekebalan tubuh meliputi makan makanan sehat, cukup tidur, berolahraga rutin, dan mengurangi stres.', 'Menjaga kesehatan mata dapat dilakukan dengan mengonsumsi makanan kaya vitamin A, mengistirahatkan mata dari layar, dan melakukan pemeriksaan mata secara berkala.']\n"
          ]
        }
      ]
    },
    {
      "cell_type": "markdown",
      "source": [
        "## Preprocessing"
      ],
      "metadata": {
        "id": "v_Zm5U4RCom_"
      }
    },
    {
      "cell_type": "code",
      "source": [
        "def preprocess(text):\n",
        "    # Ubah teks ke huruf kecil\n",
        "    text = text.lower()\n",
        "    # Hapus tanda baca\n",
        "    text = text.translate(str.maketrans('', '', string.punctuation))\n",
        "    # Tokenisasi dan hapus stopwords\n",
        "    tokens = text.split()\n",
        "    tokens = [word for word in tokens if word not in stopwords.words('indonesian')]\n",
        "    return ' '.join(tokens)\n",
        "\n",
        "# Preprocess semua pertanyaan dalam dataset\n",
        "preprocessed_questions = [preprocess(q) for q in questions]"
      ],
      "metadata": {
        "id": "4jMH9wgXCrHv"
      },
      "execution_count": 119,
      "outputs": []
    },
    {
      "cell_type": "markdown",
      "source": [
        "##TF-IDF matrix"
      ],
      "metadata": {
        "id": "RJ0LOKcbCvsv"
      }
    },
    {
      "cell_type": "code",
      "source": [
        "vectorizer = TfidfVectorizer()\n",
        "tfidf_matrix = vectorizer.fit_transform(preprocessed_questions)"
      ],
      "metadata": {
        "id": "wer_HjYyC0ut"
      },
      "execution_count": 120,
      "outputs": []
    },
    {
      "cell_type": "markdown",
      "source": [
        "## Responses Chatbot"
      ],
      "metadata": {
        "id": "6LIZNJ9UC3kS"
      }
    },
    {
      "cell_type": "code",
      "source": [
        "def get_response(user_input):\n",
        "    # Preprocessing input pengguna\n",
        "    preprocessed_input = preprocess(user_input)\n",
        "    # Transform input ke dalam bentuk TF-IDF\n",
        "    input_vec = vectorizer.transform([preprocessed_input])\n",
        "    # Hitung Cosine Similarity\n",
        "    cosine_sim = cosine_similarity(input_vec, tfidf_matrix)\n",
        "    # Cari indeks dari jawaban dengan kesamaan tertinggi\n",
        "    index = cosine_sim.argsort()[0][-1]\n",
        "    similarity = cosine_sim[0][index]\n",
        "    # Tetapkan threshold similarity untuk memastikan relevansi jawaban\n",
        "    if similarity < 0.1:\n",
        "        return \"Maaf, saya tidak mengerti pertanyaan Anda.\"\n",
        "    else:\n",
        "        return answers[index]"
      ],
      "metadata": {
        "id": "Fp5NK8BBC_BQ"
      },
      "execution_count": 121,
      "outputs": []
    },
    {
      "cell_type": "markdown",
      "source": [
        "## Test Chatbot"
      ],
      "metadata": {
        "id": "Z0D2Vmg_DEZ4"
      }
    },
    {
      "cell_type": "code",
      "source": [
        "def chat():\n",
        "    print(\"Chatbot siap! Ketik 'exit' untuk keluar.\")\n",
        "    while True:\n",
        "        user_input = input(\"Anda: \")\n",
        "        if user_input.lower() == 'exit':\n",
        "            print(\"Chatbot: Sampai jumpa!\")\n",
        "            break\n",
        "        response = get_response(user_input)\n",
        "        print(f\"Chatbot: {response}\")\n",
        "\n",
        "# Mulai percakapan dengan chatbot\n",
        "chat()\n"
      ],
      "metadata": {
        "colab": {
          "base_uri": "https://localhost:8080/"
        },
        "id": "nxi6uMZuDM6y",
        "outputId": "26516c5c-6cbb-4d8c-d598-0dfbb0b43b18"
      },
      "execution_count": 124,
      "outputs": [
        {
          "output_type": "stream",
          "name": "stdout",
          "text": [
            "Chatbot siap! Ketik 'exit' untuk keluar.\n",
            "Anda: bagaimana cara menjaga kesehatan mental?\n",
            "Chatbot: Menjaga kesehatan mental bisa dilakukan dengan meditasi, tidur cukup, mengatur waktu untuk bersantai, dan berinteraksi dengan orang yang positif.\n",
            "Anda: saya ingin mengurangi berat badan bagaimana caranya?\n",
            "Chatbot: Untuk mengurangi berat badan dengan aman, fokus pada pola makan sehat, perbanyak sayuran, kurangi gula, dan lakukan olahraga secara rutin.\n",
            "Anda: okey bye\n",
            "Chatbot: Maaf, saya tidak mengerti pertanyaan Anda.\n",
            "Anda: exit\n",
            "Chatbot: Sampai jumpa!\n"
          ]
        }
      ]
    }
  ],
  "metadata": {
    "colab": {
      "provenance": [],
      "authorship_tag": "ABX9TyNINfh/fjLLJYBfuqnmLHf/",
      "include_colab_link": true
    },
    "kernelspec": {
      "display_name": "Python 3",
      "name": "python3"
    },
    "language_info": {
      "name": "python"
    }
  },
  "nbformat": 4,
  "nbformat_minor": 0
}